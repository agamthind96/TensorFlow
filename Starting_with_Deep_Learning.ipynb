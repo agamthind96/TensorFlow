{
  "nbformat": 4,
  "nbformat_minor": 0,
  "metadata": {
    "colab": {
      "name": "Starting_with_Deep_Learning.ipynb",
      "provenance": [],
      "authorship_tag": "ABX9TyMU68d+60vJo+RlXGqUDLJ9",
      "include_colab_link": true
    },
    "kernelspec": {
      "name": "python3",
      "display_name": "Python 3"
    },
    "language_info": {
      "name": "python"
    }
  },
  "cells": [
    {
      "cell_type": "markdown",
      "metadata": {
        "id": "view-in-github",
        "colab_type": "text"
      },
      "source": [
        "<a href=\"https://colab.research.google.com/github/agamthind96/TensorFlow/blob/main/Starting_with_Deep_Learning.ipynb\" target=\"_parent\"><img src=\"https://colab.research.google.com/assets/colab-badge.svg\" alt=\"Open In Colab\"/></a>"
      ]
    },
    {
      "cell_type": "markdown",
      "source": [
        "## What is Machine Learning?\n",
        "\n",
        "Machine Learning is turning things(data) into numbers and finding patterns into those numbers."
      ],
      "metadata": {
        "id": "xNrN-HqapyNI"
      }
    },
    {
      "cell_type": "markdown",
      "source": [
        "## What is Deep Learning?\n",
        "\n",
        "Deep Learning is a subfield of machine learning concerned with algorithms inspired by the structure and function of the brain called artificial neural networks."
      ],
      "metadata": {
        "id": "SuQiahcrqCbc"
      }
    },
    {
      "cell_type": "markdown",
      "source": [
        "## Difference between Traditional Programming v/s Machine Learning approach?\n",
        "\n",
        "- Traditional Programming : Input + Set of rules -----> Output\n",
        "- Machine Learning approach : Input + Output -----> Defines own set of rules or patterns."
      ],
      "metadata": {
        "id": "QQFlQm9TqnIB"
      }
    },
    {
      "cell_type": "markdown",
      "source": [
        "## Process of Neural Network.\n",
        "\n",
        "Input(audio,image,text) -----> Numerical encoding (turn data ino tensors) -----> Learns representation using Neural Network(patterns,features,weigths) -----> Representation outputs -----> Human-understandable output.\n"
      ],
      "metadata": {
        "id": "KhFBzjtGrLVX"
      }
    },
    {
      "cell_type": "markdown",
      "source": [
        "## Types of Learning\n",
        "\n",
        "- Supervised Learning\n",
        "- Semi-Spervised Learning\n",
        "- Unsupervised Learning.\n",
        "- Transfer Learning."
      ],
      "metadata": {
        "id": "UgVU_QR-1jH3"
      }
    },
    {
      "cell_type": "markdown",
      "source": [
        "## What is TensorFlow?\n",
        "\n",
        "TensorFlow is an end-to-end open source platform for machine learning. It has a comprehensive, flexible ecosystem of tools, libraries and community resources that lets researchers push the state-of-the-art in ML and developers easily build and deploy ML powered applications."
      ],
      "metadata": {
        "id": "ZLDGWIye2qjP"
      }
    },
    {
      "cell_type": "markdown",
      "source": [
        "## What is Tensor ?\n",
        "\n",
        "https://www.youtube.com/watch?v=f5liqUk0ZTw&ab_channel=DanFleisch"
      ],
      "metadata": {
        "id": "xq9ddJ415p1a"
      }
    },
    {
      "cell_type": "code",
      "source": [
        ""
      ],
      "metadata": {
        "id": "2rPf8ZfWLQVW"
      },
      "execution_count": null,
      "outputs": []
    }
  ]
}